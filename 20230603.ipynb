{
  "nbformat": 4,
  "nbformat_minor": 0,
  "metadata": {
    "colab": {
      "provenance": [],
      "authorship_tag": "ABX9TyN9EZRlfMZQp19eqKE9DUzB",
      "include_colab_link": true
    },
    "kernelspec": {
      "name": "python3",
      "display_name": "Python 3"
    },
    "language_info": {
      "name": "python"
    }
  },
  "cells": [
    {
      "cell_type": "markdown",
      "metadata": {
        "id": "view-in-github",
        "colab_type": "text"
      },
      "source": [
        "<a href=\"https://colab.research.google.com/github/elise09192000/new-python/blob/main/20230603.ipynb\" target=\"_parent\"><img src=\"https://colab.research.google.com/assets/colab-badge.svg\" alt=\"Open In Colab\"/></a>"
      ]
    },
    {
      "cell_type": "code",
      "execution_count": null,
      "metadata": {
        "colab": {
          "base_uri": "https://localhost:8080/"
        },
        "id": "S46OTlhk4nEB",
        "outputId": "07115731-d272-403d-f38d-101ff58150c1"
      },
      "outputs": [
        {
          "output_type": "stream",
          "name": "stdout",
          "text": [
            "140531868025072 140531868025072\n",
            "1 1\n"
          ]
        }
      ],
      "source": [
        "x = 1\n",
        "y = x\n",
        "print(id(x),id(y))\n",
        "print(x,y)\n"
      ]
    },
    {
      "cell_type": "code",
      "source": [
        "a = \"Python\"\n",
        "b = a\n",
        "print(a, id(a), type(a))\n"
      ],
      "metadata": {
        "colab": {
          "base_uri": "https://localhost:8080/"
        },
        "id": "6o90kdm583kv",
        "outputId": "39fb1eec-a6d1-474f-a269-d521daa44ca8"
      },
      "execution_count": null,
      "outputs": [
        {
          "output_type": "stream",
          "name": "stdout",
          "text": [
            "Python 140531867972656 <class 'str'>\n"
          ]
        }
      ]
    },
    {
      "cell_type": "code",
      "source": [
        "print(1, id(1))\n",
        "print(2, id(2))\n",
        "a = 0+2\n",
        "print(a ,id(a))"
      ],
      "metadata": {
        "colab": {
          "base_uri": "https://localhost:8080/"
        },
        "id": "FnfRv0OkA3ma",
        "outputId": "2f193f01-f5b5-4c1a-fddb-27ae8a91a1bf"
      },
      "execution_count": null,
      "outputs": [
        {
          "output_type": "stream",
          "name": "stdout",
          "text": [
            "1 140531868025072\n",
            "2 140531868025104\n",
            "2 140531868025104\n"
          ]
        }
      ]
    },
    {
      "cell_type": "code",
      "source": [
        "a = 5\n",
        "print(a, id(a))\n",
        "a += 1\n",
        "print(a, id(a))\n",
        "\n"
      ],
      "metadata": {
        "colab": {
          "base_uri": "https://localhost:8080/"
        },
        "id": "YyNCCQuJCUPw",
        "outputId": "c4a6356f-a048-441d-c358-346666cdce5e"
      },
      "execution_count": null,
      "outputs": [
        {
          "output_type": "stream",
          "name": "stdout",
          "text": [
            "5 140531868025200\n",
            "6 140531868025232\n"
          ]
        }
      ]
    },
    {
      "cell_type": "code",
      "source": [
        "a = 5\n",
        "print(a, id(a))\n",
        "a -= 1\n",
        "print(a, id(a))"
      ],
      "metadata": {
        "colab": {
          "base_uri": "https://localhost:8080/"
        },
        "id": "tcZ-NkK6C63H",
        "outputId": "bbe6a165-a742-46ff-dda6-2297b6a7596d"
      },
      "execution_count": null,
      "outputs": [
        {
          "output_type": "stream",
          "name": "stdout",
          "text": [
            "5 140531868025200\n",
            "4 140531868025168\n"
          ]
        }
      ]
    },
    {
      "cell_type": "code",
      "source": [
        "a = 5\n",
        "print(a, id(a))\n",
        "a *= 1\n",
        "print(a, id(a))"
      ],
      "metadata": {
        "id": "eOE6KSufDfob",
        "outputId": "43443afa-a804-4064-99b6-557f74e41ee7",
        "colab": {
          "base_uri": "https://localhost:8080/"
        }
      },
      "execution_count": null,
      "outputs": [
        {
          "output_type": "stream",
          "name": "stdout",
          "text": [
            "5 140531868025200\n",
            "5 140531868025200\n"
          ]
        }
      ]
    },
    {
      "cell_type": "code",
      "source": [
        "a = 5\n",
        "print(a, id(a))\n",
        "a /= 1\n",
        "print(a, id(a))"
      ],
      "metadata": {
        "colab": {
          "base_uri": "https://localhost:8080/"
        },
        "id": "YppPCrIPEWED",
        "outputId": "329c5101-1a17-4554-ea87-4206785e4da7"
      },
      "execution_count": 10,
      "outputs": [
        {
          "output_type": "stream",
          "name": "stdout",
          "text": [
            "5 140531868025200\n",
            "5.0 140530621413456\n"
          ]
        }
      ]
    },
    {
      "cell_type": "code",
      "source": [
        "a = 10\n",
        "b = 10.2\n",
        "c = (a>b)\n",
        "d = (a!=b)\n",
        "print(a,type(a))\n",
        "print(b,type(b))\n",
        "print(c,type(c))\n",
        "print(d,type(d))\n",
        "\n",
        "print((a>5) or (a>11))"
      ],
      "metadata": {
        "colab": {
          "base_uri": "https://localhost:8080/"
        },
        "id": "jS0K-TlbFBMR",
        "outputId": "4c6f2c71-4a7e-4e3a-acf7-1cd47e08f30f"
      },
      "execution_count": 17,
      "outputs": [
        {
          "output_type": "stream",
          "name": "stdout",
          "text": [
            "10 <class 'int'>\n",
            "10.2 <class 'float'>\n",
            "False <class 'bool'>\n",
            "True <class 'bool'>\n",
            "True\n"
          ]
        }
      ]
    },
    {
      "cell_type": "code",
      "source": [
        "#課本範例:2-28\n",
        "j = 300\n",
        "p = 350\n",
        "v = 400\n",
        "Total = j*jacket+p*pants+v*vest\n",
        "jacket = int(input('請輸入上衣數量?'))\n",
        "pants = int(input('請輸入褲子數量?'))\n",
        "vest = int(input('請輸入背心數量?'))\n",
        "\n",
        "\n",
        "print('訂購服裝的總金額',Total)\n"
      ],
      "metadata": {
        "colab": {
          "base_uri": "https://localhost:8080/"
        },
        "id": "8zd4Eez4H43G",
        "outputId": "f750b761-0fb8-4f0c-e51a-6e9552b03c88"
      },
      "execution_count": 34,
      "outputs": [
        {
          "output_type": "stream",
          "name": "stdout",
          "text": [
            "請輸入上衣數量?2\n",
            "請輸入褲子數量?3\n",
            "請輸入背心數量?1\n",
            "訂購服裝的總金額 2050\n"
          ]
        }
      ]
    }
  ]
}
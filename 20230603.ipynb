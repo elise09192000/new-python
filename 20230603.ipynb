{
  "nbformat": 4,
  "nbformat_minor": 0,
  "metadata": {
    "colab": {
      "provenance": [],
      "authorship_tag": "ABX9TyPb7IqCRN83JYb6dhm2/4eH"
    },
    "kernelspec": {
      "name": "python3",
      "display_name": "Python 3"
    },
    "language_info": {
      "name": "python"
    }
  },
  "cells": [
    {
      "cell_type": "code",
      "execution_count": null,
      "metadata": {
        "colab": {
          "base_uri": "https://localhost:8080/"
        },
        "id": "S46OTlhk4nEB",
        "outputId": "07115731-d272-403d-f38d-101ff58150c1"
      },
      "outputs": [
        {
          "output_type": "stream",
          "name": "stdout",
          "text": [
            "140531868025072 140531868025072\n",
            "1 1\n"
          ]
        }
      ],
      "source": [
        "x = 1\n",
        "y = x\n",
        "print(id(x),id(y))\n",
        "print(x,y)\n"
      ]
    },
    {
      "cell_type": "code",
      "source": [
        "a = \"Python\"\n",
        "b = a\n",
        "print(a, id(a), type(a))\n"
      ],
      "metadata": {
        "colab": {
          "base_uri": "https://localhost:8080/"
        },
        "id": "6o90kdm583kv",
        "outputId": "39fb1eec-a6d1-474f-a269-d521daa44ca8"
      },
      "execution_count": null,
      "outputs": [
        {
          "output_type": "stream",
          "name": "stdout",
          "text": [
            "Python 140531867972656 <class 'str'>\n"
          ]
        }
      ]
    },
    {
      "cell_type": "code",
      "source": [
        "print(1, id(1))\n",
        "print(2, id(2))\n",
        "a = 0+2\n",
        "print(a ,id(a))"
      ],
      "metadata": {
        "colab": {
          "base_uri": "https://localhost:8080/"
        },
        "id": "FnfRv0OkA3ma",
        "outputId": "2f193f01-f5b5-4c1a-fddb-27ae8a91a1bf"
      },
      "execution_count": null,
      "outputs": [
        {
          "output_type": "stream",
          "name": "stdout",
          "text": [
            "1 140531868025072\n",
            "2 140531868025104\n",
            "2 140531868025104\n"
          ]
        }
      ]
    },
    {
      "cell_type": "code",
      "source": [
        "a = 5\n",
        "print(a, id(a))\n",
        "a += 1\n",
        "print(a, id(a))\n",
        "\n"
      ],
      "metadata": {
        "colab": {
          "base_uri": "https://localhost:8080/"
        },
        "id": "YyNCCQuJCUPw",
        "outputId": "c4a6356f-a048-441d-c358-346666cdce5e"
      },
      "execution_count": null,
      "outputs": [
        {
          "output_type": "stream",
          "name": "stdout",
          "text": [
            "5 140531868025200\n",
            "6 140531868025232\n"
          ]
        }
      ]
    },
    {
      "cell_type": "code",
      "source": [
        "a = 5\n",
        "print(a, id(a))\n",
        "a -= 1\n",
        "print(a, id(a))"
      ],
      "metadata": {
        "colab": {
          "base_uri": "https://localhost:8080/"
        },
        "id": "tcZ-NkK6C63H",
        "outputId": "bbe6a165-a742-46ff-dda6-2297b6a7596d"
      },
      "execution_count": null,
      "outputs": [
        {
          "output_type": "stream",
          "name": "stdout",
          "text": [
            "5 140531868025200\n",
            "4 140531868025168\n"
          ]
        }
      ]
    },
    {
      "cell_type": "code",
      "source": [
        "a = 5\n",
        "print(a, id(a))\n",
        "a *= 1\n",
        "print(a, id(a))"
      ],
      "metadata": {
        "id": "eOE6KSufDfob",
        "outputId": "43443afa-a804-4064-99b6-557f74e41ee7",
        "colab": {
          "base_uri": "https://localhost:8080/"
        }
      },
      "execution_count": null,
      "outputs": [
        {
          "output_type": "stream",
          "name": "stdout",
          "text": [
            "5 140531868025200\n",
            "5 140531868025200\n"
          ]
        }
      ]
    },
    {
      "cell_type": "code",
      "source": [
        "a = 5\n",
        "print(a, id(a))\n",
        "a /= 1\n",
        "print(a, id(a))"
      ],
      "metadata": {
        "colab": {
          "base_uri": "https://localhost:8080/"
        },
        "id": "YppPCrIPEWED",
        "outputId": "329c5101-1a17-4554-ea87-4206785e4da7"
      },
      "execution_count": 10,
      "outputs": [
        {
          "output_type": "stream",
          "name": "stdout",
          "text": [
            "5 140531868025200\n",
            "5.0 140530621413456\n"
          ]
        }
      ]
    },
    {
      "cell_type": "code",
      "source": [
        "a = 10\n",
        "b = 10.2\n",
        "c = (a>b)\n",
        "d = (a!=b)\n",
        "print(a,type(a))\n",
        "print(b,type(b))\n",
        "print(c,type(c))\n",
        "print(d,type(d))\n",
        "\n",
        "print((a>5) or (a>11))"
      ],
      "metadata": {
        "colab": {
          "base_uri": "https://localhost:8080/"
        },
        "id": "jS0K-TlbFBMR",
        "outputId": "4c6f2c71-4a7e-4e3a-acf7-1cd47e08f30f"
      },
      "execution_count": 17,
      "outputs": [
        {
          "output_type": "stream",
          "name": "stdout",
          "text": [
            "10 <class 'int'>\n",
            "10.2 <class 'float'>\n",
            "False <class 'bool'>\n",
            "True <class 'bool'>\n",
            "True\n"
          ]
        }
      ]
    },
    {
      "cell_type": "code",
      "source": [
        "#課本範例:2-28\n",
        "jacket = int(input('請輸入上衣數量?'))\n",
        "pants = int(input('請輸入褲子數量?'))\n",
        "vest = int(input('請輸入背心數量?'))\n",
        "j = 300\n",
        "p = 350\n",
        "v = 400\n",
        "Total = j*jacket+p*pants+v*vest\n",
        "\n",
        "print('訂購服裝的總金額',Total)\n"
      ],
      "metadata": {
        "colab": {
          "base_uri": "https://localhost:8080/"
        },
        "id": "8zd4Eez4H43G",
        "outputId": "c1f2dee7-f8cb-4f58-db99-74055618bb1e"
      },
      "execution_count": 35,
      "outputs": [
        {
          "output_type": "stream",
          "name": "stdout",
          "text": [
            "請輸入上衣數量?2\n",
            "請輸入褲子數量?3\n",
            "請輸入背心數量?1\n",
            "訂購服裝的總金額 2050\n"
          ]
        }
      ]
    },
    {
      "cell_type": "code",
      "source": [
        "#老師版本\n",
        "上衣價格 = 300\n",
        "褲子價格 = 350\n",
        "背心價格 = 400\n",
        "上衣數量 = int(input('請輸入上衣數量?'))\n",
        "褲子數量 = int(input('請輸入褲子數量?'))\n",
        "背心數量 = int(input('請輸入背心數量?'))\n",
        "總額 = 上衣價格*上衣數量 + 褲子價格*褲子數量 + 背心價格*背心數量\n",
        "print(str(上衣價格), '*', str(上衣數量), '+', str(褲子價格), '*', str(褲子數量), '+', str(背心價格), '*', str(背心數量), '=', 總額)\n",
        "\n",
        "print('訂購服裝的總金額',總額)"
      ],
      "metadata": {
        "colab": {
          "base_uri": "https://localhost:8080/"
        },
        "id": "QumXnIEgQnHO",
        "outputId": "cf8db76f-af25-46fe-81cc-36d589504ad4"
      },
      "execution_count": 47,
      "outputs": [
        {
          "output_type": "stream",
          "name": "stdout",
          "text": [
            "請輸入上衣數量?2\n",
            "請輸入褲子數量?3\n",
            "請輸入背心數量?1\n",
            "300 * 2 + 350 * 3 + 400 * 1 = 2050\n",
            "訂購服裝的總金額 2050\n"
          ]
        }
      ]
    },
    {
      "cell_type": "code",
      "source": [
        "s1 = '01234'\n",
        "s2 = '56789'\n",
        "s3 = (s1+s2)*10\n",
        "print(s3)\n"
      ],
      "metadata": {
        "colab": {
          "base_uri": "https://localhost:8080/"
        },
        "id": "TpmckXa9TAZf",
        "outputId": "dc222f6d-fbb6-4a7c-fc1a-1117b1a5c7f6"
      },
      "execution_count": 39,
      "outputs": [
        {
          "output_type": "stream",
          "name": "stdout",
          "text": [
            "0123456789012345678901234567890123456789012345678901234567890123456789012345678901234567890123456789\n"
          ]
        }
      ]
    }
  ]
}
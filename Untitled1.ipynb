{
  "nbformat": 4,
  "nbformat_minor": 0,
  "metadata": {
    "colab": {
      "provenance": [],
      "authorship_tag": "ABX9TyOm8hJvvgGyyqN9SgJd9Afm",
      "include_colab_link": true
    },
    "kernelspec": {
      "name": "python3",
      "display_name": "Python 3"
    },
    "language_info": {
      "name": "python"
    }
  },
  "cells": [
    {
      "cell_type": "markdown",
      "metadata": {
        "id": "view-in-github",
        "colab_type": "text"
      },
      "source": [
        "<a href=\"https://colab.research.google.com/github/elise09192000/new-python/blob/main/Untitled1.ipynb\" target=\"_parent\"><img src=\"https://colab.research.google.com/assets/colab-badge.svg\" alt=\"Open In Colab\"/></a>"
      ]
    },
    {
      "cell_type": "code",
      "execution_count": 1,
      "metadata": {
        "colab": {
          "base_uri": "https://localhost:8080/"
        },
        "id": "S46OTlhk4nEB",
        "outputId": "07115731-d272-403d-f38d-101ff58150c1"
      },
      "outputs": [
        {
          "output_type": "stream",
          "name": "stdout",
          "text": [
            "140531868025072 140531868025072\n",
            "1 1\n"
          ]
        }
      ],
      "source": [
        "x = 1\n",
        "y = x\n",
        "print(id(x),id(y))\n",
        "print(x,y)\n"
      ]
    },
    {
      "cell_type": "code",
      "source": [
        "a = \"Python\"\n",
        "b = a\n",
        "print(a, id(a), type(a))\n"
      ],
      "metadata": {
        "colab": {
          "base_uri": "https://localhost:8080/"
        },
        "id": "6o90kdm583kv",
        "outputId": "39fb1eec-a6d1-474f-a269-d521daa44ca8"
      },
      "execution_count": 2,
      "outputs": [
        {
          "output_type": "stream",
          "name": "stdout",
          "text": [
            "Python 140531867972656 <class 'str'>\n"
          ]
        }
      ]
    },
    {
      "cell_type": "code",
      "source": [
        "print(1, id(1))\n",
        "print(2, id(2))\n",
        "a = 0+2\n",
        "print(a ,id(a))"
      ],
      "metadata": {
        "colab": {
          "base_uri": "https://localhost:8080/"
        },
        "id": "FnfRv0OkA3ma",
        "outputId": "2f193f01-f5b5-4c1a-fddb-27ae8a91a1bf"
      },
      "execution_count": 3,
      "outputs": [
        {
          "output_type": "stream",
          "name": "stdout",
          "text": [
            "1 140531868025072\n",
            "2 140531868025104\n",
            "2 140531868025104\n"
          ]
        }
      ]
    },
    {
      "cell_type": "code",
      "source": [
        "a = 5\n",
        "print(a, id(a))\n",
        "a = a+1\n",
        "print(a, id(a))\n"
      ],
      "metadata": {
        "colab": {
          "base_uri": "https://localhost:8080/"
        },
        "id": "YyNCCQuJCUPw",
        "outputId": "a4aded68-d0ac-4a2a-914b-b6d805710365"
      },
      "execution_count": 4,
      "outputs": [
        {
          "output_type": "stream",
          "name": "stdout",
          "text": [
            "5 140531868025200\n",
            "6 140531868025232\n"
          ]
        }
      ]
    }
  ]
}
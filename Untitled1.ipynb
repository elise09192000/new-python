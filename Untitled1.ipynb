{
  "nbformat": 4,
  "nbformat_minor": 0,
  "metadata": {
    "colab": {
      "provenance": [],
      "authorship_tag": "ABX9TyNHRvW2+9WU9uqRhKazgRQB"
    },
    "kernelspec": {
      "name": "python3",
      "display_name": "Python 3"
    },
    "language_info": {
      "name": "python"
    }
  },
  "cells": [
    {
      "cell_type": "code",
      "execution_count": 1,
      "metadata": {
        "colab": {
          "base_uri": "https://localhost:8080/"
        },
        "id": "S46OTlhk4nEB",
        "outputId": "07115731-d272-403d-f38d-101ff58150c1"
      },
      "outputs": [
        {
          "output_type": "stream",
          "name": "stdout",
          "text": [
            "140531868025072 140531868025072\n",
            "1 1\n"
          ]
        }
      ],
      "source": [
        "x = 1\n",
        "y = x\n",
        "print(id(x),id(y))\n",
        "print(x,y)\n"
      ]
    },
    {
      "cell_type": "code",
      "source": [
        "a = \"Python\"\n",
        "b = a\n",
        "print(a, id(a), type(a))\n"
      ],
      "metadata": {
        "colab": {
          "base_uri": "https://localhost:8080/"
        },
        "id": "6o90kdm583kv",
        "outputId": "39fb1eec-a6d1-474f-a269-d521daa44ca8"
      },
      "execution_count": 2,
      "outputs": [
        {
          "output_type": "stream",
          "name": "stdout",
          "text": [
            "Python 140531867972656 <class 'str'>\n"
          ]
        }
      ]
    },
    {
      "cell_type": "code",
      "source": [
        "print(1, id(1))\n",
        "print(2, id(2))\n",
        "a = 0+2\n",
        "print"
      ],
      "metadata": {
        "id": "FnfRv0OkA3ma"
      },
      "execution_count": null,
      "outputs": []
    }
  ]
}